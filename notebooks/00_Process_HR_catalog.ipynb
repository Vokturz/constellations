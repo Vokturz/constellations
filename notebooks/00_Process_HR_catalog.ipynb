{
 "cells": [
  {
   "cell_type": "code",
   "execution_count": 19,
   "id": "09461673",
   "metadata": {},
   "outputs": [
    {
     "name": "stdout",
     "output_type": "stream",
     "text": [
      " HR       Name     RAh RAm RAs  DE- DEd DEm DEs Vmag         RA_DEC        \n",
      "---- ------------- --- --- ---- --- --- --- --- ---- ----------------------\n",
      "   1    BD+44 4550  00  05 09.9   +  45  13  45 6.70 00h05m09.9s +45d13m45s\n",
      "   2    BD-01 4525  00  05 03.8   -  00  30  11 6.29 00h05m03.8s -00d30m11s\n",
      "   3 PscBD-06 6357  00  05 20.1   -  05  42  27 4.61 00h05m20.1s -05d42m27s\n",
      "   4 PegBD+12 5063  00  05 42.0   +  13  23  46 5.51   00h05m42s +13d23m46s\n",
      "   5    BD+57 2865  00  06 16.0   +  58  26  12 5.96   00h06m16s +58d26m12s\n",
      "   6    CD-4914337  00  06 19.0   -  49  04  30 5.70   00h06m19s -49d04m30s\n",
      "   7 CasBD+63 2107  00  06 26.5   +  64  11  46 5.59 00h06m26.5s +64d11m46s\n",
      "   8    BD+28 4704  00  06 36.8   +  29  01  17 6.13 00h06m36.8s +29d01m17s\n",
      " ...           ... ... ...  ... ... ... ... ...  ...                    ...\n",
      "9103 CetBD-11 6194  00  04 30.1   -  10  30  34 4.94 00h04m30.1s -10d30m34s\n",
      "9104    BD+66 1679  00  04 42.0   +  67  10  00 5.67   00h04m42s +67d10m00s\n",
      "9105    BD+41 4933  00  04 36.7   +  42  05  32 6.01 00h04m36.7s +42d05m32s\n",
      "9106    CP-73 2346  00  04 30.7   -  72  53  52 7.31 00h04m30.7s -72d53m52s\n",
      "9107    BD+33 4828  00  04 53.8   +  34  39  35 6.12 00h04m53.8s +34d39m35s\n",
      "9108    CP-72 2800  00  04 41.3   -  71  26  13 5.59 00h04m41.3s -71d26m13s\n",
      "9109    BD+25 5068  00  04 56.0   +  26  38  56 6.25   00h04m56s +26d38m56s\n",
      "9110    BD+60 2667  00  05 06.2   +  61  18  51 5.80 00h05m06.2s +61d18m51s\n",
      "Length = 9110 rows\n"
     ]
    }
   ],
   "source": [
    "import pandas as pd\n",
    "import numpy as np\n",
    "from astropy.table import Table\n",
    "from astropy.coordinates import SkyCoord\n",
    "import astropy.units as u\n",
    "\n",
    "# Define the column names and positions for J2000 RA/Dec\n",
    "names = [\n",
    "    'HR', 'Name', 'RAh', 'RAm', 'RAs', 'DE-', 'DEd', 'DEm', 'DEs', 'Vmag'\n",
    "]\n",
    "col_starts = [0, 10, 75, 77, 79, 83, 84, 86, 88, 102]\n",
    "col_ends   = [4, 24, 76, 78, 82, 83, 85, 87, 89, 106]\n",
    "\n",
    "# Read only the J2000 RA/Dec columns\n",
    "catalog = Table.read(\n",
    "    '../data/raw/catalog.gz',\n",
    "    format='ascii.fixed_width_no_header',\n",
    "    names=names,\n",
    "    col_starts=col_starts,\n",
    "    col_ends=col_ends,\n",
    "    fill_values=[('', ' ')]\n",
    ")\n",
    "\n",
    "\n",
    "coords = SkyCoord(\n",
    "    ra=(catalog['RAh'].astype(str) + ' ' + \n",
    "        catalog['RAm'].astype(str) + ' ' + \n",
    "        catalog['RAs'].astype(str)), \n",
    "    dec=(catalog['DE-'].astype(str) + \n",
    "         catalog['DEd'].astype(str) + ' ' + \n",
    "         catalog['DEm'].astype(str) + ' ' + \n",
    "         catalog['DEs'].astype(str)),\n",
    "    unit=(u.hourangle, u.deg)\n",
    ")\n",
    "\n",
    "# Add a single column with the combined coordinate as a string\n",
    "catalog['RA_DEC'] = coords.to_string('hmsdms')\n",
    "\n",
    "catalog.pprint(max_lines=20)\n"
   ]
  },
  {
   "cell_type": "code",
   "execution_count": 20,
   "id": "84ee45b0",
   "metadata": {},
   "outputs": [
    {
     "name": "stdout",
     "output_type": "stream",
     "text": [
      "Saved HR catalog to ../data/processed/hr_catalog.csv\n"
     ]
    }
   ],
   "source": [
    "\n",
    "# Create a pandas DataFrame with RA and Dec in degrees\n",
    "df = pd.DataFrame({\n",
    "    'hr': catalog['HR'],\n",
    "    'name': catalog['Name'],\n",
    "    'ra_degrees': coords.ra.deg,\n",
    "    'dec_degrees': coords.dec.deg,\n",
    "    'Vmag': catalog['Vmag']\n",
    "})\n",
    "\n",
    "df.to_csv('../data/processed/hr_catalog.csv', index=False)\n",
    "print('Saved HR catalog to ../data/processed/hr_catalog.csv')\n"
   ]
  },
  {
   "cell_type": "code",
   "execution_count": 21,
   "id": "bc72fe6b",
   "metadata": {},
   "outputs": [
    {
     "name": "stdout",
     "output_type": "stream",
     "text": [
      "Saved constellations to ../data/processed/constellations.csv\n"
     ]
    }
   ],
   "source": [
    "constellations_df = pd.read_csv('../data/raw/ConstellationLines.csv')\n",
    "stars_clean = constellations_df.iloc[:, 2:].astype(str).apply(lambda x : x.str.strip()).replace('', np.nan)\n",
    "constellations_clean_df = constellations_df.iloc[:, :2].join(stars_clean)\n",
    "constellations_clean_df.to_csv('../data/processed/constellations.csv', index=False)\n",
    "print('Saved constellations to ../data/processed/constellations.csv')"
   ]
  }
 ],
 "metadata": {
  "kernelspec": {
   "display_name": "base",
   "language": "python",
   "name": "python3"
  },
  "language_info": {
   "codemirror_mode": {
    "name": "ipython",
    "version": 3
   },
   "file_extension": ".py",
   "mimetype": "text/x-python",
   "name": "python",
   "nbconvert_exporter": "python",
   "pygments_lexer": "ipython3",
   "version": "3.12.8"
  }
 },
 "nbformat": 4,
 "nbformat_minor": 5
}
